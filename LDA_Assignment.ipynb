{
 "cells": [
  {
   "cell_type": "code",
   "execution_count": 1,
   "id": "f3fa3f85",
   "metadata": {},
   "outputs": [],
   "source": [
    "import gensim"
   ]
  },
  {
   "cell_type": "code",
   "execution_count": 2,
   "id": "58636d6f",
   "metadata": {},
   "outputs": [],
   "source": [
    "\n",
    "corpus = \"\"\"Technological advances are about much more than the new electric car from Tesla or autonomous vehicles by Mercedes. It is much more than just advanced wrist jewelry from Apple and fitness trackers that can tell you what you ate two weeks ago.\n",
    "\n",
    "For senior people, technological change can mean the difference between dependency and independence. Forget your Ubers and your social media; forget about Ultra HD TVs, virtual reality gadgets, and other ever-changing technology, as a senior, all these things mean nothing if you are going to be confined to a nursing home with no freedom to enjoy it all.\n",
    "\n",
    "The kind of modern technological advancements that seniors need may not hit the headlines like the new rocket by SpaceX, but that does not mean that they are any less significant. To the seniors who need these gadgets, advanced wearable tech is fast becoming an integral part of their safety, health, and happiness.\"\"\""
   ]
  },
  {
   "cell_type": "code",
   "execution_count": 3,
   "id": "005f5d3a",
   "metadata": {},
   "outputs": [],
   "source": [
    "import nltk\n",
    "from nltk import sent_tokenize"
   ]
  },
  {
   "cell_type": "code",
   "execution_count": 4,
   "id": "e3b57110",
   "metadata": {},
   "outputs": [],
   "source": [
    "list_of_sentence = sent_tokenize(corpus)"
   ]
  },
  {
   "cell_type": "code",
   "execution_count": 5,
   "id": "2c2951ce",
   "metadata": {},
   "outputs": [
    {
     "data": {
      "text/plain": [
       "['Technological advances are about much more than the new electric car from Tesla or autonomous vehicles by Mercedes.',\n",
       " 'It is much more than just advanced wrist jewelry from Apple and fitness trackers that can tell you what you ate two weeks ago.',\n",
       " 'For senior people, technological change can mean the difference between dependency and independence.',\n",
       " 'Forget your Ubers and your social media; forget about Ultra HD TVs, virtual reality gadgets, and other ever-changing technology, as a senior, all these things mean nothing if you are going to be confined to a nursing home with no freedom to enjoy it all.',\n",
       " 'The kind of modern technological advancements that seniors need may not hit the headlines like the new rocket by SpaceX, but that does not mean that they are any less significant.',\n",
       " 'To the seniors who need these gadgets, advanced wearable tech is fast becoming an integral part of their safety, health, and happiness.']"
      ]
     },
     "execution_count": 5,
     "metadata": {},
     "output_type": "execute_result"
    }
   ],
   "source": [
    "list_of_sentence"
   ]
  },
  {
   "cell_type": "code",
   "execution_count": 6,
   "id": "a424a5bc",
   "metadata": {},
   "outputs": [
    {
     "name": "stdout",
     "output_type": "stream",
     "text": [
      "[['technological', 'advances', 'are', 'about', 'much', 'more', 'than', 'the', 'new', 'electric', 'car', 'from', 'tesla', 'or', 'autonomous', 'vehicles', 'by', 'mercedes']]\n"
     ]
    }
   ],
   "source": [
    "def sent_to_words(sentences):\n",
    "    for sentence in sentences:\n",
    "        yield(gensim.utils.simple_preprocess(str(sentence).encode('utf-8'), deacc=True))  # deacc=True removes punctuations\n",
    "        \n",
    "data_words = list(sent_to_words(list_of_sentence))\n",
    "print(data_words[:1])"
   ]
  },
  {
   "cell_type": "code",
   "execution_count": 7,
   "id": "70a67545",
   "metadata": {},
   "outputs": [
    {
     "name": "stdout",
     "output_type": "stream",
     "text": [
      "['technological', 'advances', 'are', 'about', 'much', 'more', 'than', 'the', 'new', 'electric', 'car', 'from', 'tesla', 'or', 'autonomous', 'vehicles', 'by', 'mercedes']\n"
     ]
    }
   ],
   "source": [
    "# Build the bigram and trigram models\n",
    "bigram = gensim.models.Phrases(data_words, min_count=5, threshold=100) # higher threshold fewer phrases.\n",
    "trigram = gensim.models.Phrases(bigram[data_words], threshold=100)  \n",
    "\n",
    "# Faster way to get a sentence clubbed as a trigram/bigram\n",
    "bigram_mod = gensim.models.phrases.Phraser(bigram)\n",
    "trigram_mod = gensim.models.phrases.Phraser(trigram)\n",
    "\n",
    "# See trigram example\n",
    "print(trigram_mod[bigram_mod[data_words[0]]])"
   ]
  },
  {
   "cell_type": "code",
   "execution_count": 8,
   "id": "bcedef27",
   "metadata": {},
   "outputs": [],
   "source": [
    "import spacy\n",
    "import gensim\n",
    "import gensim.corpora as corpora\n",
    "from gensim.utils import simple_preprocess\n",
    "from gensim.models import CoherenceModel\n",
    "# NLTK Stop words\n",
    "from nltk.corpus import stopwords\n",
    "stop_words = stopwords.words('english')\n",
    "stop_words.extend(['from', 'subject', 're', 'edu', 'use'])"
   ]
  },
  {
   "cell_type": "code",
   "execution_count": 9,
   "id": "a59d8735",
   "metadata": {},
   "outputs": [],
   "source": [
    "# Define functions for stopwords, bigrams, trigrams and lemmatization\n",
    "def remove_stopwords(texts):\n",
    "    return [[word for word in simple_preprocess(str(doc)) if word not in stop_words] for doc in texts]\n",
    "\n",
    "def make_bigrams(texts):\n",
    "    return [bigram_mod[doc] for doc in texts]\n",
    "\n",
    "def make_trigrams(texts):\n",
    "    return [trigram_mod[bigram_mod[doc]] for doc in texts]\n",
    "\n",
    "def lemmatization(texts, allowed_postags=['NOUN', 'ADJ', 'VERB', 'ADV']):\n",
    "    \"\"\"https://spacy.io/api/annotation\"\"\"\n",
    "    texts_out = []\n",
    "    for sent in texts:\n",
    "        doc = nlp(\" \".join(sent)) \n",
    "        texts_out.append([token.lemma_ for token in doc if token.pos_ in allowed_postags])\n",
    "    return texts_out"
   ]
  },
  {
   "cell_type": "code",
   "execution_count": 10,
   "id": "74e7a964",
   "metadata": {},
   "outputs": [
    {
     "name": "stdout",
     "output_type": "stream",
     "text": [
      "[['technological', 'advance', 'much', 'new', 'electric', 'car', 'tesla', 'autonomous', 'vehicle', 'mercede']]\n"
     ]
    }
   ],
   "source": [
    "# Remove Stop Words\n",
    "data_words_nostops = remove_stopwords(data_words)\n",
    "\n",
    "# Form Bigrams\n",
    "data_words_bigrams = make_trigrams(data_words_nostops)\n",
    "\n",
    "# Initialize spacy 'en' model, keeping only tagger component (for efficiency)\n",
    "# python3 -m spacy download en\n",
    "nlp = spacy.load('en_core_web_sm', disable=['parser', 'ner'])\n",
    "\n",
    "# Do lemmatization keeping only noun, adj, vb, adv\n",
    "data_lemmatized = lemmatization(data_words_bigrams, allowed_postags=['NOUN', 'ADJ', 'VERB', 'ADV'])\n",
    "\n",
    "print(data_lemmatized[:1])"
   ]
  },
  {
   "cell_type": "code",
   "execution_count": 11,
   "id": "8b7ee20d",
   "metadata": {},
   "outputs": [
    {
     "name": "stdout",
     "output_type": "stream",
     "text": [
      "[[(0, 1), (1, 1), (2, 1), (3, 1), (4, 1), (5, 1), (6, 1), (7, 1), (8, 1), (9, 1)]]\n"
     ]
    }
   ],
   "source": [
    "# Create Dictionary\n",
    "id2word = corpora.Dictionary(data_lemmatized)\n",
    "\n",
    "# Create Corpus\n",
    "texts = data_lemmatized\n",
    "\n",
    "# Term Document Frequency\n",
    "corpus = [id2word.doc2bow(text) for text in texts]\n",
    "\n",
    "# View\n",
    "print(corpus[:1])"
   ]
  },
  {
   "cell_type": "code",
   "execution_count": 12,
   "id": "33fae841",
   "metadata": {},
   "outputs": [
    {
     "data": {
      "text/plain": [
       "[(0, 1),\n",
       " (1, 1),\n",
       " (2, 1),\n",
       " (3, 1),\n",
       " (4, 1),\n",
       " (5, 1),\n",
       " (6, 1),\n",
       " (7, 1),\n",
       " (8, 1),\n",
       " (9, 1)]"
      ]
     },
     "execution_count": 12,
     "metadata": {},
     "output_type": "execute_result"
    }
   ],
   "source": [
    "id2word[0]\n",
    "corpus[:1][0][:10]"
   ]
  },
  {
   "cell_type": "code",
   "execution_count": 13,
   "id": "fb69c3d0",
   "metadata": {},
   "outputs": [
    {
     "data": {
      "text/plain": [
       "[[('advance', 1),\n",
       "  ('autonomous', 1),\n",
       "  ('car', 1),\n",
       "  ('electric', 1),\n",
       "  ('mercede', 1),\n",
       "  ('much', 1),\n",
       "  ('new', 1),\n",
       "  ('technological', 1),\n",
       "  ('tesla', 1),\n",
       "  ('vehicle', 1)]]"
      ]
     },
     "execution_count": 13,
     "metadata": {},
     "output_type": "execute_result"
    }
   ],
   "source": [
    "# Human readable format of corpus (term-frequency)\n",
    "[[(id2word[id], freq) for id, freq in cp] for cp in corpus[:1]]"
   ]
  },
  {
   "cell_type": "code",
   "execution_count": 14,
   "id": "26cdfb62",
   "metadata": {},
   "outputs": [],
   "source": [
    "# Build LDA model\n",
    "lda_model = gensim.models.ldamodel.LdaModel(corpus=corpus,\n",
    "                                           id2word=id2word,\n",
    "                                           num_topics=20, \n",
    "                                           random_state=100,\n",
    "                                           update_every=1,\n",
    "                                           chunksize=100,\n",
    "                                           passes=10,\n",
    "                                           alpha='auto',\n",
    "                                           per_word_topics=True)"
   ]
  },
  {
   "cell_type": "code",
   "execution_count": 15,
   "id": "a82b271d",
   "metadata": {},
   "outputs": [
    {
     "name": "stdout",
     "output_type": "stream",
     "text": [
      "[(0,\n",
      "  '0.016*\"tv\" + 0.016*\"thing\" + 0.016*\"headline\" + 0.016*\"advancement\" + '\n",
      "  '0.016*\"virtual\" + 0.016*\"ultra\" + 0.016*\"uber\" + 0.016*\"kind\" + '\n",
      "  '0.016*\"reality\" + 0.016*\"nursing\"'),\n",
      " (1,\n",
      "  '0.061*\"mean\" + 0.061*\"headline\" + 0.061*\"hit\" + 0.061*\"kind\" + 0.061*\"less\" '\n",
      "  '+ 0.061*\"need\" + 0.061*\"rocket\" + 0.061*\"significant\" + 0.061*\"spacex\" + '\n",
      "  '0.061*\"advancement\"'),\n",
      " (2,\n",
      "  '0.016*\"tv\" + 0.016*\"thing\" + 0.016*\"headline\" + 0.016*\"advancement\" + '\n",
      "  '0.016*\"virtual\" + 0.016*\"ultra\" + 0.016*\"uber\" + 0.016*\"kind\" + '\n",
      "  '0.016*\"reality\" + 0.016*\"nursing\"'),\n",
      " (3,\n",
      "  '0.016*\"tv\" + 0.016*\"thing\" + 0.016*\"headline\" + 0.016*\"advancement\" + '\n",
      "  '0.016*\"virtual\" + 0.016*\"ultra\" + 0.016*\"uber\" + 0.016*\"kind\" + '\n",
      "  '0.016*\"reality\" + 0.016*\"nursing\"'),\n",
      " (4,\n",
      "  '0.016*\"tv\" + 0.016*\"thing\" + 0.016*\"headline\" + 0.016*\"advancement\" + '\n",
      "  '0.016*\"virtual\" + 0.016*\"ultra\" + 0.016*\"uber\" + 0.016*\"kind\" + '\n",
      "  '0.016*\"reality\" + 0.016*\"nursing\"'),\n",
      " (5,\n",
      "  '0.016*\"tv\" + 0.016*\"thing\" + 0.016*\"headline\" + 0.016*\"advancement\" + '\n",
      "  '0.016*\"virtual\" + 0.016*\"ultra\" + 0.016*\"uber\" + 0.016*\"kind\" + '\n",
      "  '0.016*\"reality\" + 0.016*\"nursing\"'),\n",
      " (6,\n",
      "  '0.094*\"senior\" + 0.094*\"change\" + 0.094*\"dependency\" + 0.094*\"difference\" + '\n",
      "  '0.094*\"independence\" + 0.094*\"mean\" + 0.094*\"people\" + '\n",
      "  '0.094*\"technological\" + 0.004*\"headline\" + 0.004*\"advancement\"'),\n",
      " (7,\n",
      "  '0.016*\"tv\" + 0.016*\"thing\" + 0.016*\"headline\" + 0.016*\"advancement\" + '\n",
      "  '0.016*\"virtual\" + 0.016*\"ultra\" + 0.016*\"uber\" + 0.016*\"kind\" + '\n",
      "  '0.016*\"reality\" + 0.016*\"nursing\"'),\n",
      " (8,\n",
      "  '0.016*\"tv\" + 0.016*\"thing\" + 0.016*\"headline\" + 0.016*\"advancement\" + '\n",
      "  '0.016*\"virtual\" + 0.016*\"ultra\" + 0.016*\"uber\" + 0.016*\"kind\" + '\n",
      "  '0.016*\"reality\" + 0.016*\"nursing\"'),\n",
      " (9,\n",
      "  '0.016*\"tv\" + 0.016*\"thing\" + 0.016*\"headline\" + 0.016*\"advancement\" + '\n",
      "  '0.016*\"virtual\" + 0.016*\"ultra\" + 0.016*\"uber\" + 0.016*\"kind\" + '\n",
      "  '0.016*\"reality\" + 0.016*\"nursing\"'),\n",
      " (10,\n",
      "  '0.016*\"tv\" + 0.016*\"thing\" + 0.016*\"headline\" + 0.016*\"advancement\" + '\n",
      "  '0.016*\"virtual\" + 0.016*\"ultra\" + 0.016*\"uber\" + 0.016*\"kind\" + '\n",
      "  '0.016*\"reality\" + 0.016*\"nursing\"'),\n",
      " (11,\n",
      "  '0.074*\"week\" + 0.074*\"wrist\" + 0.074*\"ago\" + 0.074*\"advanced\" + '\n",
      "  '0.074*\"jewelry\" + 0.074*\"tracker\" + 0.074*\"fitness\" + 0.074*\"much\" + '\n",
      "  '0.074*\"eat\" + 0.074*\"tell\"'),\n",
      " (12,\n",
      "  '0.016*\"tv\" + 0.016*\"thing\" + 0.016*\"headline\" + 0.016*\"advancement\" + '\n",
      "  '0.016*\"virtual\" + 0.016*\"ultra\" + 0.016*\"uber\" + 0.016*\"kind\" + '\n",
      "  '0.016*\"reality\" + 0.016*\"nursing\"'),\n",
      " (13,\n",
      "  '0.016*\"tv\" + 0.016*\"thing\" + 0.016*\"headline\" + 0.016*\"advancement\" + '\n",
      "  '0.016*\"virtual\" + 0.016*\"ultra\" + 0.016*\"uber\" + 0.016*\"kind\" + '\n",
      "  '0.016*\"reality\" + 0.016*\"nursing\"'),\n",
      " (14,\n",
      "  '0.016*\"tv\" + 0.016*\"thing\" + 0.016*\"headline\" + 0.016*\"advancement\" + '\n",
      "  '0.016*\"virtual\" + 0.016*\"ultra\" + 0.016*\"uber\" + 0.016*\"kind\" + '\n",
      "  '0.016*\"reality\" + 0.016*\"nursing\"'),\n",
      " (15,\n",
      "  '0.080*\"new\" + 0.080*\"technological\" + 0.080*\"autonomous\" + 0.080*\"vehicle\" '\n",
      "  '+ 0.080*\"tesla\" + 0.080*\"advance\" + 0.080*\"electric\" + 0.080*\"mercede\" + '\n",
      "  '0.080*\"car\" + 0.080*\"much\"'),\n",
      " (16,\n",
      "  '0.016*\"tv\" + 0.016*\"thing\" + 0.016*\"headline\" + 0.016*\"advancement\" + '\n",
      "  '0.016*\"virtual\" + 0.016*\"ultra\" + 0.016*\"uber\" + 0.016*\"kind\" + '\n",
      "  '0.016*\"reality\" + 0.016*\"nursing\"'),\n",
      " (17,\n",
      "  '0.065*\"happiness\" + 0.065*\"integral\" + 0.065*\"need\" + 0.065*\"become\" + '\n",
      "  '0.065*\"fast\" + 0.065*\"senior\" + 0.065*\"health\" + 0.065*\"tech\" + '\n",
      "  '0.065*\"safety\" + 0.065*\"wearable\"'),\n",
      " (18,\n",
      "  '0.081*\"forget\" + 0.042*\"reality\" + 0.042*\"nursing\" + 0.042*\"senior\" + '\n",
      "  '0.042*\"gadget\" + 0.042*\"home\" + 0.042*\"thing\" + 0.042*\"social\" + '\n",
      "  '0.042*\"uber\" + 0.042*\"enjoy\"'),\n",
      " (19,\n",
      "  '0.016*\"tv\" + 0.016*\"thing\" + 0.016*\"headline\" + 0.016*\"advancement\" + '\n",
      "  '0.016*\"virtual\" + 0.016*\"ultra\" + 0.016*\"uber\" + 0.016*\"kind\" + '\n",
      "  '0.016*\"reality\" + 0.016*\"nursing\"')]\n"
     ]
    }
   ],
   "source": [
    "from pprint import pprint\n",
    "# Print the Keyword in the 10 topics\n",
    "pprint(lda_model.print_topics())\n",
    "doc_lda = lda_model[corpus]"
   ]
  },
  {
   "cell_type": "code",
   "execution_count": 16,
   "id": "7eeaee3c",
   "metadata": {},
   "outputs": [
    {
     "name": "stdout",
     "output_type": "stream",
     "text": [
      "\n",
      "Coherence Score:  0.3625368392131418\n"
     ]
    }
   ],
   "source": [
    "# Compute Coherence Score\n",
    "coherence_model_lda = CoherenceModel(model=lda_model, texts=data_lemmatized, dictionary=id2word, coherence='c_v')\n",
    "coherence_lda = coherence_model_lda.get_coherence()\n",
    "print('\\nCoherence Score: ', coherence_lda)"
   ]
  },
  {
   "cell_type": "code",
   "execution_count": 17,
   "id": "47fb2ee5",
   "metadata": {},
   "outputs": [],
   "source": [
    "# Plotting tools\n",
    "import pyLDAvis\n",
    "import pyLDAvis.gensim_models as gensimvis\n",
    "pyLDAvis.enable_notebook()\n",
    "import matplotlib.pyplot as plt\n",
    "%matplotlib inline\n",
    "import warnings\n",
    "warnings.filterwarnings(\"ignore\", category=DeprecationWarning)"
   ]
  },
  {
   "cell_type": "code",
   "execution_count": 18,
   "id": "06bd4969",
   "metadata": {},
   "outputs": [],
   "source": [
    "dictionary = corpora.Dictionary(data_lemmatized )\n",
    "doc_term_matrix = [dictionary.doc2bow(rev) for rev in data_lemmatized ]"
   ]
  },
  {
   "cell_type": "code",
   "execution_count": 19,
   "id": "77a24f0f",
   "metadata": {},
   "outputs": [],
   "source": [
    "def compute_coherence_values(dictionary, corpus, texts, limit, start=2, step=3):\n",
    "    coherence_values = []\n",
    "    model_list = []\n",
    "    for num_topics in range(start, limit, step):\n",
    "        model = gensim.models.ldamodel.LdaModel(corpus=corpus, num_topics=num_topics, id2word=dictionary)\n",
    "        model_list.append(model)\n",
    "        coherencemodel = CoherenceModel(model=model, texts=texts, dictionary=dictionary, coherence='c_v')\n",
    "        coherence_values.append(coherencemodel.get_coherence())\n",
    "\n",
    "    return model_list, coherence_values"
   ]
  },
  {
   "cell_type": "code",
   "execution_count": 20,
   "id": "48b9cdf2",
   "metadata": {},
   "outputs": [],
   "source": [
    "vis = gensimvis.prepare(lda_model, doc_term_matrix, dictionary)"
   ]
  },
  {
   "cell_type": "code",
   "execution_count": 21,
   "id": "e3b634af",
   "metadata": {},
   "outputs": [],
   "source": [
    "model_list, coherence_values = compute_coherence_values(dictionary=dictionary, corpus=doc_term_matrix, texts=data_lemmatized, start=2, limit=50, step=1)"
   ]
  },
  {
   "cell_type": "code",
   "execution_count": 22,
   "id": "65d7a8d8",
   "metadata": {},
   "outputs": [
    {
     "data": {
      "image/png": "[encoded data removed]",
      "text/plain": [
       "<Figure size 432x288 with 1 Axes>"
      ]
     },
     "metadata": {
      "needs_background": "light"
     },
     "output_type": "display_data"
    }
   ],
   "source": [
    "# Show graph\n",
    "limit=50; start=2; step=1;\n",
    "x = range(start, limit, step)\n",
    "plt.plot(x, coherence_values)\n",
    "plt.xlabel(\"Num Topics\")\n",
    "plt.ylabel(\"Coherence score\")\n",
    "plt.legend((\"coherence_values\"), loc='best')\n",
    "plt.show()# Print the coherence scores"
   ]
  },
  {
   "cell_type": "code",
   "execution_count": 23,
   "id": "c8007699",
   "metadata": {},
   "outputs": [
    {
     "name": "stdout",
     "output_type": "stream",
     "text": [
      "Num Topics = 2  has Coherence Value of 0.3427\n",
      "Num Topics = 3  has Coherence Value of 0.3328\n",
      "Num Topics = 4  has Coherence Value of 0.2348\n",
      "Num Topics = 5  has Coherence Value of 0.4586\n",
      "Num Topics = 6  has Coherence Value of 0.3395\n",
      "Num Topics = 7  has Coherence Value of 0.4487\n",
      "Num Topics = 8  has Coherence Value of 0.5567\n",
      "Num Topics = 9  has Coherence Value of 0.4547\n",
      "Num Topics = 10  has Coherence Value of 0.4603\n",
      "Num Topics = 11  has Coherence Value of 0.4489\n",
      "Num Topics = 12  has Coherence Value of 0.5085\n",
      "Num Topics = 13  has Coherence Value of 0.4113\n",
      "Num Topics = 14  has Coherence Value of 0.4627\n",
      "Num Topics = 15  has Coherence Value of 0.4955\n",
      "Num Topics = 16  has Coherence Value of 0.4085\n",
      "Num Topics = 17  has Coherence Value of 0.4187\n",
      "Num Topics = 18  has Coherence Value of 0.4045\n",
      "Num Topics = 19  has Coherence Value of 0.3695\n",
      "Num Topics = 20  has Coherence Value of 0.4048\n",
      "Num Topics = 21  has Coherence Value of 0.3613\n",
      "Num Topics = 22  has Coherence Value of 0.3694\n",
      "Num Topics = 23  has Coherence Value of 0.369\n",
      "Num Topics = 24  has Coherence Value of 0.3676\n",
      "Num Topics = 25  has Coherence Value of 0.3793\n",
      "Num Topics = 26  has Coherence Value of 0.3648\n",
      "Num Topics = 27  has Coherence Value of 0.3867\n",
      "Num Topics = 28  has Coherence Value of 0.3808\n",
      "Num Topics = 29  has Coherence Value of 0.3619\n",
      "Num Topics = 30  has Coherence Value of 0.3564\n",
      "Num Topics = 31  has Coherence Value of 0.3517\n",
      "Num Topics = 32  has Coherence Value of 0.3581\n",
      "Num Topics = 33  has Coherence Value of 0.3715\n",
      "Num Topics = 34  has Coherence Value of 0.358\n",
      "Num Topics = 35  has Coherence Value of 0.3565\n",
      "Num Topics = 36  has Coherence Value of 0.3555\n",
      "Num Topics = 37  has Coherence Value of 0.3553\n",
      "Num Topics = 38  has Coherence Value of 0.3548\n",
      "Num Topics = 39  has Coherence Value of 0.3652\n",
      "Num Topics = 40  has Coherence Value of 0.3709\n",
      "Num Topics = 41  has Coherence Value of 0.353\n",
      "Num Topics = 42  has Coherence Value of 0.3529\n",
      "Num Topics = 43  has Coherence Value of 0.3413\n",
      "Num Topics = 44  has Coherence Value of 0.3537\n",
      "Num Topics = 45  has Coherence Value of 0.3669\n",
      "Num Topics = 46  has Coherence Value of 0.351\n",
      "Num Topics = 47  has Coherence Value of 0.3302\n",
      "Num Topics = 48  has Coherence Value of 0.364\n",
      "Num Topics = 49  has Coherence Value of 0.3356\n"
     ]
    }
   ],
   "source": [
    "# Print the coherence scores\n",
    "for m, cv in zip(x, coherence_values):\n",
    "    print(\"Num Topics =\", m, \" has Coherence Value of\", round(cv, 4))"
   ]
  },
  {
   "cell_type": "code",
   "execution_count": 24,
   "id": "88e3539e",
   "metadata": {},
   "outputs": [
    {
     "data": {
      "text/plain": [
       "[(0,\n",
       "  '0.016*\"senior\" + 0.016*\"technological\" + 0.016*\"mean\" + 0.016*\"advance\" + 0.016*\"new\" + 0.016*\"much\" + 0.016*\"change\" + 0.016*\"wrist\" + 0.016*\"happiness\" + 0.016*\"independence\"'),\n",
       " (1,\n",
       "  '0.016*\"technological\" + 0.016*\"senior\" + 0.016*\"mean\" + 0.016*\"advance\" + 0.016*\"new\" + 0.016*\"much\" + 0.016*\"change\" + 0.016*\"tell\" + 0.016*\"independence\" + 0.016*\"electric\"'),\n",
       " (2,\n",
       "  '0.016*\"senior\" + 0.016*\"technological\" + 0.016*\"new\" + 0.016*\"advance\" + 0.016*\"change\" + 0.016*\"mean\" + 0.016*\"much\" + 0.016*\"people\" + 0.016*\"fitness\" + 0.016*\"gadget\"'),\n",
       " (3,\n",
       "  '0.016*\"senior\" + 0.016*\"advance\" + 0.016*\"technological\" + 0.016*\"change\" + 0.016*\"mean\" + 0.016*\"much\" + 0.016*\"fitness\" + 0.016*\"people\" + 0.016*\"dependency\" + 0.016*\"gadget\"'),\n",
       " (4,\n",
       "  '0.061*\"apple\" + 0.061*\"eat\" + 0.061*\"ago\" + 0.061*\"advanced\" + 0.061*\"much\" + 0.061*\"week\" + 0.061*\"tracker\" + 0.061*\"jewelry\" + 0.061*\"wrist\" + 0.061*\"tell\"'),\n",
       " (5,\n",
       "  '0.065*\"technological\" + 0.065*\"much\" + 0.065*\"mercede\" + 0.065*\"new\" + 0.065*\"autonomous\" + 0.065*\"tesla\" + 0.065*\"electric\" + 0.065*\"car\" + 0.065*\"vehicle\" + 0.065*\"advance\"'),\n",
       " (6,\n",
       "  '0.057*\"change\" + 0.057*\"mean\" + 0.057*\"senior\" + 0.057*\"forget\" + 0.030*\"difference\" + 0.030*\"technological\" + 0.030*\"dependency\" + 0.030*\"independence\" + 0.030*\"people\" + 0.030*\"tv\"'),\n",
       " (7,\n",
       "  '0.017*\"forget\" + 0.017*\"social\" + 0.016*\"nursing\" + 0.016*\"go\" + 0.016*\"freedom\" + 0.016*\"medium\" + 0.016*\"senior\" + 0.016*\"enjoy\" + 0.016*\"reality\" + 0.016*\"mean\"'),\n",
       " (8,\n",
       "  '0.062*\"senior\" + 0.062*\"need\" + 0.033*\"technological\" + 0.033*\"mean\" + 0.033*\"headline\" + 0.033*\"spacex\" + 0.033*\"advance\" + 0.033*\"become\" + 0.033*\"kind\" + 0.033*\"new\"')]"
      ]
     },
     "execution_count": 24,
     "metadata": {},
     "output_type": "execute_result"
    }
   ],
   "source": [
    "# Select the model and print the topics\n",
    "optimal_model = model_list[7]\n",
    "model_topics = optimal_model.show_topics(formatted=False)\n",
    "optimal_model.print_topics(num_words=10)"
   ]
  },
  {
   "cell_type": "code",
   "execution_count": 25,
   "id": "8a129b17",
   "metadata": {},
   "outputs": [
    {
     "data": {
      "text/html": [
       "\n",
       "<link rel=\"stylesheet\" type=\"text/css\" href=\"https://cdn.jsdelivr.net/gh/bmabey/pyLDAvis@3.3.1/pyLDAvis/js/ldavis.v1.0.0.css\">\n",
       "\n",
       "\n",
       "<div id=\"ldavis_el71005443750999046115324569\"></div>\n",
       "<script type=\"text/javascript\">\n",
       "\n",
       "var ldavis_el71005443750999046115324569_data = {\"mdsDat\": {\"x\": [0.17325368008709166, 0.020545785035894083, -0.145292426901354, -0.06866307857001977, 0.006665022932630825, 0.0033728307122973945, 0.003372655436384857, 0.0033726765660336594, 0.003372854701041397], \"y\": [0.091823713667449, -0.1731188323945121, 0.1029804792890203, -0.03703678113937224, 0.004712185213535486, 0.0026595592756395695, 0.0026598443693191935, 0.0026598047894286696, 0.0026600269294922286], \"topics\": [1, 2, 3, 4, 5, 6, 7, 8, 9], \"cluster\": [1, 1, 1, 1, 1, 1, 1, 1, 1], \"Freq\": [36.88378296863195, 33.01647346224386, 13.715537016848442, 12.443251400784574, 0.7881910723271509, 0.7881910197910073, 0.7881910197910073, 0.7881910197910073, 0.7881910197910073]}, \"tinfo\": {\"Term\": [\"forget\", \"change\", \"need\", \"senior\", \"mean\", \"technological\", \"advance\", \"new\", \"gadget\", \"much\", \"social\", \"nursing\", \"go\", \"freedom\", \"medium\", \"enjoy\", \"reality\", \"home\", \"ultra\", \"confine\", \"ever\", \"thing\", \"virtual\", \"uber\", \"technology\", \"tv\", \"people\", \"dependency\", \"difference\", \"independence\", \"change\", \"forget\", \"difference\", \"dependency\", \"people\", \"independence\", \"tv\", \"technology\", \"uber\", \"virtual\", \"thing\", \"ever\", \"confine\", \"ultra\", \"home\", \"reality\", \"enjoy\", \"medium\", \"freedom\", \"go\", \"nursing\", \"social\", \"mean\", \"senior\", \"gadget\", \"technological\", \"vehicle\", \"tesla\", \"electric\", \"car\", \"mercede\", \"advance\", \"much\", \"new\", \"fitness\", \"need\", \"headline\", \"spacex\", \"kind\", \"become\", \"health\", \"wearable\", \"modern\", \"advancement\", \"rocket\", \"hit\", \"tech\", \"safety\", \"fast\", \"part\", \"less\", \"integral\", \"significant\", \"happiness\", \"advance\", \"new\", \"senior\", \"gadget\", \"technological\", \"mean\", \"car\", \"vehicle\", \"autonomous\", \"tesla\", \"electric\", \"mercede\", \"change\", \"much\", \"tell\", \"dependency\", \"fitness\", \"apple\", \"eat\", \"week\", \"ago\", \"advanced\", \"jewelry\", \"tracker\", \"wrist\", \"tell\", \"fitness\", \"much\", \"electric\", \"vehicle\", \"car\", \"autonomous\", \"mercede\", \"tesla\", \"integral\", \"significant\", \"happiness\", \"fast\", \"less\", \"modern\", \"tech\", \"health\", \"hit\", \"safety\", \"rocket\", \"part\", \"wearable\", \"advancement\", \"senior\", \"technological\", \"mean\", \"advance\", \"gadget\", \"independence\", \"change\", \"new\", \"people\", \"need\", \"difference\", \"dependency\", \"mercede\", \"autonomous\", \"tesla\", \"electric\", \"car\", \"vehicle\", \"much\", \"new\", \"advance\", \"technological\", \"fitness\", \"tell\", \"wrist\", \"tracker\", \"jewelry\", \"advanced\", \"ago\", \"eat\", \"week\", \"apple\", \"integral\", \"happiness\", \"part\", \"rocket\", \"less\", \"significant\", \"wearable\", \"safety\", \"become\", \"fast\", \"tech\", \"senior\", \"mean\", \"change\", \"dependency\", \"gadget\", \"independence\", \"need\", \"people\", \"forget\", \"difference\", \"autonomous\", \"car\", \"tesla\", \"vehicle\", \"mercede\", \"electric\", \"wrist\", \"tell\", \"fitness\", \"jewelry\", \"eat\", \"tracker\", \"ago\", \"week\", \"advanced\", \"apple\", \"social\", \"nursing\", \"go\", \"freedom\", \"medium\", \"enjoy\", \"reality\", \"home\", \"ultra\", \"confine\", \"ever\", \"thing\", \"virtual\", \"uber\", \"technology\", \"tv\", \"forget\", \"change\", \"gadget\", \"mean\", \"senior\", \"technological\", \"much\", \"advance\", \"independence\", \"dependency\", \"difference\", \"new\", \"car\", \"electric\", \"tesla\", \"vehicle\", \"mercede\", \"autonomous\", \"wrist\", \"tell\", \"fitness\", \"advanced\", \"tracker\", \"ago\", \"week\", \"jewelry\", \"eat\", \"apple\", \"happiness\", \"integral\", \"less\", \"safety\", \"part\", \"fast\", \"significant\", \"rocket\", \"advancement\", \"hit\", \"wearable\", \"tech\", \"modern\", \"health\", \"headline\", \"senior\", \"technological\", \"mean\", \"advance\", \"new\", \"much\", \"change\", \"independence\", \"dependency\", \"people\", \"gadget\", \"need\", \"forget\", \"difference\", \"electric\", \"vehicle\", \"car\", \"tesla\", \"mercede\", \"autonomous\", \"tell\", \"fitness\", \"wrist\", \"jewelry\", \"week\", \"advanced\", \"tracker\", \"ago\", \"eat\", \"apple\", \"less\", \"happiness\", \"safety\", \"significant\", \"fast\", \"part\", \"advancement\", \"tech\", \"wearable\", \"rocket\", \"modern\", \"hit\", \"health\", \"headline\", \"kind\", \"technological\", \"senior\", \"mean\", \"advance\", \"new\", \"much\", \"change\", \"independence\", \"gadget\", \"people\", \"forget\", \"dependency\", \"difference\", \"need\", \"electric\", \"car\", \"mercede\", \"tesla\", \"vehicle\", \"autonomous\", \"fitness\", \"wrist\", \"tell\", \"ago\", \"week\", \"eat\", \"jewelry\", \"advanced\", \"tracker\", \"apple\", \"significant\", \"happiness\", \"integral\", \"safety\", \"less\", \"fast\", \"part\", \"hit\", \"kind\", \"tech\", \"wearable\", \"health\", \"advancement\", \"become\", \"senior\", \"technological\", \"new\", \"advance\", \"change\", \"mean\", \"much\", \"people\", \"gadget\", \"need\", \"difference\", \"dependency\", \"forget\", \"car\", \"autonomous\", \"vehicle\", \"electric\", \"tesla\", \"mercede\", \"fitness\", \"tracker\", \"wrist\", \"tell\", \"jewelry\", \"eat\", \"week\", \"advanced\", \"ago\", \"apple\", \"happiness\", \"integral\", \"less\", \"significant\", \"safety\", \"rocket\", \"hit\", \"part\", \"wearable\", \"fast\", \"advancement\", \"tech\", \"modern\", \"kind\", \"senior\", \"advance\", \"technological\", \"change\", \"mean\", \"much\", \"people\", \"dependency\", \"gadget\", \"new\", \"independence\", \"need\", \"difference\", \"forget\"], \"Freq\": [1.0, 1.0, 1.0, 3.0, 2.0, 2.0, 1.0, 1.0, 1.0, 1.0, 1.0, 1.0, 1.0, 1.0, 1.0, 1.0, 1.0, 1.0, 1.0, 1.0, 1.0, 1.0, 1.0, 1.0, 1.0, 1.0, 1.0, 1.0, 1.0, 1.0, 1.6378345193861366, 1.6333253798525058, 0.8645006381308704, 0.8644873485317885, 0.864484776351321, 0.8644851514609726, 0.861286591462602, 0.8611984406944987, 0.8608520001377886, 0.8604669768740668, 0.8603918477695799, 0.8602400891220002, 0.8600628230181182, 0.8598662119736373, 0.8597345484859595, 0.8596226050485323, 0.8596086188172406, 0.8591072579744595, 0.8585961442807395, 0.8584030163973082, 0.8583041482105905, 0.8566300874230233, 1.6377400989281439, 1.6373746349533933, 0.8606971334388107, 0.8644874557059746, 0.08646438228435585, 0.08646326365378798, 0.08646180340550177, 0.08646148188294334, 0.08646161585067602, 0.086472688283782, 0.08646853528406893, 0.08646536024880443, 0.08646494494883311, 1.5938146878021546, 0.8388526582482332, 0.8388515070061248, 0.8388480532797995, 0.8388483410903266, 0.8388441198692623, 0.8388426808166268, 0.838842488942942, 0.8388412417639912, 0.838839610837671, 0.8388390352166167, 0.8388399945850404, 0.8388355814902915, 0.8388364449218728, 0.8388360611745033, 0.8388308805850153, 0.8388308805850153, 0.8388298252797493, 0.8388233975113105, 0.8388493004587503, 0.8388455589218978, 1.5938148796758393, 0.8388319358902814, 0.8388678162693276, 0.8388611006903618, 0.08389496384037635, 0.08389475397853367, 0.08389480794300751, 0.08389466403774395, 0.0838937346495835, 0.08389374064563615, 0.08389938892723066, 0.08389932297065153, 0.08389787792196333, 0.08389639689695925, 0.08389639090090661, 0.656310871241537, 0.6563024222784267, 0.6563014259384373, 0.6563018643280326, 0.6563017846208336, 0.656296364531291, 0.6562967232136873, 0.6562869989353906, 0.6562832925506299, 0.6562794666050705, 0.6563015056456365, 0.06563976026376159, 0.0656397303735619, 0.06563937667286567, 0.06563867425317312, 0.06563871908847264, 0.0656385248021747, 0.06563858956427401, 0.0656385447289745, 0.06563805652237968, 0.0656384301498757, 0.06563814121127878, 0.06563827571717736, 0.06563818106487836, 0.06563828568057725, 0.06563787219948164, 0.06563763805958413, 0.0656376031876845, 0.0656374238464864, 0.06563761315108439, 0.06563749359028566, 0.0656562646356863, 0.06564791032487503, 0.06564775091047673, 0.06564423881201402, 0.06564302825892687, 0.06564268452163052, 0.06564230591243456, 0.06564228100393481, 0.06564125975544566, 0.06564020861675682, 0.06563866428977323, 0.06563856963747423, 0.6302184770221195, 0.6302160906808747, 0.6302153675471642, 0.6302118241919825, 0.6302116795652404, 0.630211173371643, 0.6302186939622327, 0.6302178985151511, 0.630192878088766, 0.6302228158243829, 0.06303177813589209, 0.0630310278846674, 0.06303044033852757, 0.06303074315076887, 0.06303001549747263, 0.06302984375321637, 0.06302958613683199, 0.06302939631423296, 0.06302924264831947, 0.0630292336091481, 0.06303058496526968, 0.06303013752628628, 0.06303041322101342, 0.06303025955509993, 0.06302934207920467, 0.0630292290895624, 0.06302944602967557, 0.06302890367939265, 0.06302948670594678, 0.06302874549389346, 0.06302875453306485, 0.06304256638693637, 0.06303458027902048, 0.06303278600350117, 0.06303263233758769, 0.06303246511291712, 0.06303245607374573, 0.06303161543080722, 0.06303138945152267, 0.06303118607016658, 0.06303063468071228, 0.00942568202241055, 0.009425603580741904, 0.00942562247545041, 0.009425569799293362, 0.009425588694001868, 0.0094255073894986, 0.009425915629715717, 0.009425907613778775, 0.009425807414567, 0.00942571294102447, 0.009425699199418283, 0.009425580678064926, 0.009425582968332624, 0.009425560638222572, 0.009425569799293362, 0.009425463874412343, 0.01028563116498099, 0.010104192722566602, 0.010092948653304679, 0.010070719315030674, 0.010016071237495539, 0.009961703717753373, 0.00996044407051963, 0.009947520089901435, 0.009933468152442115, 0.00991293246713057, 0.00989373200788679, 0.009876473695650673, 0.009868087880475496, 0.009826897415932123, 0.009788125474077536, 0.009778962113018985, 0.010436363988372138, 0.009940958472947486, 0.009844444301898153, 0.00995299382969897, 0.00999101112834716, 0.0094268082615509, 0.009426667410087491, 0.009426637064040497, 0.009426119463540814, 0.009426089117493819, 0.009425957999668125, 0.009425882993401025, 0.009606223757294245, 0.009606111534184537, 0.009606127566057353, 0.009606056567763456, 0.009606020496049621, 0.00960596094909345, 0.009606532943412828, 0.009606338270671498, 0.00960612184038849, 0.009606033665088005, 0.009605976408399379, 0.009605958086259019, 0.009605948925188838, 0.009605924304812729, 0.009605947780055066, 0.009605963811927881, 0.00960644820351366, 0.00960620314488634, 0.009606174516542026, 0.009606090921776632, 0.009606052559795252, 0.00960603595535555, 0.009605984996902673, 0.009605998738507943, 0.009605924877379615, 0.00960589968443662, 0.009605892241067098, 0.00960585674192015, 0.009605845290582424, 0.009605855596786377, 0.009605851016251287, 0.009607634562102, 0.0096074845495778, 0.009606926869430578, 0.00960684212953141, 0.009606808920652007, 0.009606631424917265, 0.009606548975285643, 0.0096063840760224, 0.00960630735205964, 0.00960629819098946, 0.009606254675906103, 0.009606208870555202, 0.009606056567763456, 0.00960603309252112, 0.009606338270671498, 0.009606166500605619, 0.009606024504017825, 0.009605994157972853, 0.00960596094909345, 0.009605912280908117, 0.009606437897309708, 0.009606327964467545, 0.00960621230595652, 0.009606262691842511, 0.009606128711191125, 0.00960610809878322, 0.009606015915514531, 0.009605959231392791, 0.009605911135774345, 0.009605817234804997, 0.009606165355471846, 0.00960602679428537, 0.009606025076584711, 0.009605999883641716, 0.009606027366852257, 0.009605984424335787, 0.009606006181877465, 0.00960598556946956, 0.009605954650857701, 0.009605917434010094, 0.009605926595080274, 0.009605889378232667, 0.009605918579143866, 0.009605932320749137, 0.00960589052336644, 0.009607814348104288, 0.009607349423792641, 0.009606996722590702, 0.009606907402156445, 0.0096068009047156, 0.009606617683311995, 0.009606560426623369, 0.00960638865655749, 0.009606333690136408, 0.009606297045855687, 0.009606237498899516, 0.00960618940328107, 0.009606152759000348, 0.009606122985522263, 0.009606219176759155, 0.009606096647445495, 0.00960610351824813, 0.00960605599519657, 0.009605980416367583, 0.009605928312780933, 0.009606480267259292, 0.009606266127243829, 0.009606250095371013, 0.009606163065204301, 0.00960610809878322, 0.009606077180171362, 0.009606014197813872, 0.009605992440272194, 0.00960593346588291, 0.009605865330423444, 0.009606109243916992, 0.009606043398725072, 0.009606066301400523, 0.009606038818189982, 0.009605989577437763, 0.009606024504017825, 0.0096060130526801, 0.009605930603048478, 0.009605961521660336, 0.009605923159678956, 0.009605919724277639, 0.009605920296844525, 0.009605886515398235, 0.009605868765824761, 0.009607617385095413, 0.009607509742520795, 0.009607005883660882, 0.009606843274665183, 0.009606767695836196, 0.009606680665669484, 0.009606592490369, 0.009606487138061927, 0.009606371479550901, 0.00960630277152455, 0.009606185967879752, 0.009606175661675799, 0.009606024504017825, 0.009606292465320597, 0.009606278723715327, 0.009606118404987173, 0.009606016488081418, 0.009606002173909261, 0.009605896821602188, 0.009606644021388763, 0.009606276433447782, 0.009606106953649447, 0.009606088631509087, 0.009606028511986029, 0.009605982134068242, 0.009605932320749137, 0.009605944344653748, 0.009605891095933326, 0.009605899111869733, 0.009606147033331486, 0.00960612184038849, 0.009606079470438907, 0.00960607431733693, 0.009606049124393935, 0.00960604511642573, 0.009606033665088005, 0.009605966102195426, 0.00960596552962854, 0.009605911708341231, 0.009605911135774345, 0.009605892813633984, 0.009605896249035302, 0.009605864757856557, 0.009607626546165593, 0.00960729903790665, 0.00960709978463023, 0.009606922288895488, 0.00960684212953141, 0.009606803194983145, 0.009606576458496184, 0.0096064298813733, 0.009606345141474133, 0.009606224902428018, 0.009606163065204301, 0.009606157339535439, 0.00960611267931831, 0.009606069164234954], \"Total\": [1.0, 1.0, 1.0, 3.0, 2.0, 2.0, 1.0, 1.0, 1.0, 1.0, 1.0, 1.0, 1.0, 1.0, 1.0, 1.0, 1.0, 1.0, 1.0, 1.0, 1.0, 1.0, 1.0, 1.0, 1.0, 1.0, 1.0, 1.0, 1.0, 1.0, 1.898776758088891, 1.8947493382226583, 1.1249151335782772, 1.1249061388196933, 1.1249036531963632, 1.124906738654116, 1.1220433537688639, 1.121966708833557, 1.1216552204823056, 1.1213141355849423, 1.1212458438058208, 1.1211103702543355, 1.1209521528927526, 1.1207784264620677, 1.12066090538638, 1.1205618580430667, 1.1205488099930954, 1.1201025180352338, 1.1196486592465578, 1.1194750988926532, 1.1193859161555295, 1.1178949554214657, 2.6536639710249244, 3.4083095846973577, 1.8764743119899017, 2.4470827148109446, 0.9140599316971116, 0.9140616224094573, 0.9140573153700248, 0.9140577429162458, 0.9140621230858996, 1.6690136345516127, 1.5047413700662586, 1.6690238222946459, 0.9375239620987734, 1.8568010535760386, 1.1018247361020055, 1.1018245313782744, 1.1018218917063338, 1.1018235675742154, 1.1018208770084683, 1.1018190355767066, 1.1018190907374632, 1.101818357759948, 1.1018162472517226, 1.101816511707482, 1.1018184994206017, 1.1018129310950446, 1.1018141395746504, 1.1018139799722255, 1.1018098488638062, 1.1018112590896207, 1.1018106392998321, 1.1018046713332454, 1.6690136345516127, 1.6690238222946459, 3.4083095846973577, 1.8764743119899017, 2.4470827148109446, 2.6536639710249244, 0.9140577429162458, 0.9140599316971116, 0.914060709874721, 0.9140616224094573, 0.9140573153700248, 0.9140621230858996, 1.898776758088891, 1.5047413700662586, 0.9375262031874502, 1.1249061388196933, 0.9375239620987734, 0.9375410410524, 0.9375364706813356, 0.9375356968587191, 0.9375363605590702, 0.9375369242785121, 0.9375334165183004, 0.9375341973156555, 0.9375256235772377, 0.9375262031874502, 0.9375239620987734, 1.5047413700662586, 0.9140573153700248, 0.9140599316971116, 0.9140577429162458, 0.914060709874721, 0.9140621230858996, 0.9140616224094573, 1.1018112590896207, 1.1018106392998321, 1.1018046713332454, 1.1018141395746504, 1.1018098488638062, 1.1018190907374632, 1.1018184994206017, 1.1018208770084683, 1.101816511707482, 1.1018129310950446, 1.1018162472517226, 1.1018139799722255, 1.1018190355767066, 1.101818357759948, 3.4083095846973577, 2.4470827148109446, 2.6536639710249244, 1.6690136345516127, 1.8764743119899017, 1.124906738654116, 1.898776758088891, 1.6690238222946459, 1.1249036531963632, 1.8568010535760386, 1.1249151335782772, 1.1249061388196933, 0.9140621230858996, 0.914060709874721, 0.9140616224094573, 0.9140573153700248, 0.9140577429162458, 0.9140599316971116, 1.5047413700662586, 1.6690238222946459, 1.6690136345516127, 2.4470827148109446, 0.9375239620987734, 0.9375262031874502, 0.9375256235772377, 0.9375341973156555, 0.9375334165183004, 0.9375369242785121, 0.9375363605590702, 0.9375364706813356, 0.9375356968587191, 0.9375410410524, 1.1018112590896207, 1.1018046713332454, 1.1018139799722255, 1.1018162472517226, 1.1018098488638062, 1.1018106392998321, 1.1018190355767066, 1.1018129310950446, 1.1018235675742154, 1.1018141395746504, 1.1018184994206017, 3.4083095846973577, 2.6536639710249244, 1.898776758088891, 1.1249061388196933, 1.8764743119899017, 1.124906738654116, 1.8568010535760386, 1.1249036531963632, 1.8947493382226583, 1.1249151335782772, 0.914060709874721, 0.9140577429162458, 0.9140616224094573, 0.9140599316971116, 0.9140621230858996, 0.9140573153700248, 0.9375256235772377, 0.9375262031874502, 0.9375239620987734, 0.9375334165183004, 0.9375364706813356, 0.9375341973156555, 0.9375363605590702, 0.9375356968587191, 0.9375369242785121, 0.9375410410524, 1.1178949554214657, 1.1193859161555295, 1.1194750988926532, 1.1196486592465578, 1.1201025180352338, 1.1205488099930954, 1.1205618580430667, 1.12066090538638, 1.1207784264620677, 1.1209521528927526, 1.1211103702543355, 1.1212458438058208, 1.1213141355849423, 1.1216552204823056, 1.121966708833557, 1.1220433537688639, 1.8947493382226583, 1.898776758088891, 1.8764743119899017, 2.6536639710249244, 3.4083095846973577, 2.4470827148109446, 1.5047413700662586, 1.6690136345516127, 1.124906738654116, 1.1249061388196933, 1.1249151335782772, 1.6690238222946459, 0.9140577429162458, 0.9140573153700248, 0.9140616224094573, 0.9140599316971116, 0.9140621230858996, 0.914060709874721, 0.9375256235772377, 0.9375262031874502, 0.9375239620987734, 0.9375369242785121, 0.9375341973156555, 0.9375363605590702, 0.9375356968587191, 0.9375334165183004, 0.9375364706813356, 0.9375410410524, 1.1018046713332454, 1.1018112590896207, 1.1018098488638062, 1.1018129310950446, 1.1018139799722255, 1.1018141395746504, 1.1018106392998321, 1.1018162472517226, 1.101818357759948, 1.101816511707482, 1.1018190355767066, 1.1018184994206017, 1.1018190907374632, 1.1018208770084683, 1.1018247361020055, 3.4083095846973577, 2.4470827148109446, 2.6536639710249244, 1.6690136345516127, 1.6690238222946459, 1.5047413700662586, 1.898776758088891, 1.124906738654116, 1.1249061388196933, 1.1249036531963632, 1.8764743119899017, 1.8568010535760386, 1.8947493382226583, 1.1249151335782772, 0.9140573153700248, 0.9140599316971116, 0.9140577429162458, 0.9140616224094573, 0.9140621230858996, 0.914060709874721, 0.9375262031874502, 0.9375239620987734, 0.9375256235772377, 0.9375334165183004, 0.9375356968587191, 0.9375369242785121, 0.9375341973156555, 0.9375363605590702, 0.9375364706813356, 0.9375410410524, 1.1018098488638062, 1.1018046713332454, 1.1018129310950446, 1.1018106392998321, 1.1018141395746504, 1.1018139799722255, 1.101818357759948, 1.1018184994206017, 1.1018190355767066, 1.1018162472517226, 1.1018190907374632, 1.101816511707482, 1.1018208770084683, 1.1018247361020055, 1.1018218917063338, 2.4470827148109446, 3.4083095846973577, 2.6536639710249244, 1.6690136345516127, 1.6690238222946459, 1.5047413700662586, 1.898776758088891, 1.124906738654116, 1.8764743119899017, 1.1249036531963632, 1.8947493382226583, 1.1249061388196933, 1.1249151335782772, 1.8568010535760386, 0.9140573153700248, 0.9140577429162458, 0.9140621230858996, 0.9140616224094573, 0.9140599316971116, 0.914060709874721, 0.9375239620987734, 0.9375256235772377, 0.9375262031874502, 0.9375363605590702, 0.9375356968587191, 0.9375364706813356, 0.9375334165183004, 0.9375369242785121, 0.9375341973156555, 0.9375410410524, 1.1018106392998321, 1.1018046713332454, 1.1018112590896207, 1.1018129310950446, 1.1018098488638062, 1.1018141395746504, 1.1018139799722255, 1.101816511707482, 1.1018218917063338, 1.1018184994206017, 1.1018190355767066, 1.1018208770084683, 1.101818357759948, 1.1018235675742154, 3.4083095846973577, 2.4470827148109446, 1.6690238222946459, 1.6690136345516127, 1.898776758088891, 2.6536639710249244, 1.5047413700662586, 1.1249036531963632, 1.8764743119899017, 1.8568010535760386, 1.1249151335782772, 1.1249061388196933, 1.8947493382226583, 0.9140577429162458, 0.914060709874721, 0.9140599316971116, 0.9140573153700248, 0.9140616224094573, 0.9140621230858996, 0.9375239620987734, 0.9375341973156555, 0.9375256235772377, 0.9375262031874502, 0.9375334165183004, 0.9375364706813356, 0.9375356968587191, 0.9375369242785121, 0.9375363605590702, 0.9375410410524, 1.1018046713332454, 1.1018112590896207, 1.1018098488638062, 1.1018106392998321, 1.1018129310950446, 1.1018162472517226, 1.101816511707482, 1.1018139799722255, 1.1018190355767066, 1.1018141395746504, 1.101818357759948, 1.1018184994206017, 1.1018190907374632, 1.1018218917063338, 3.4083095846973577, 1.6690136345516127, 2.4470827148109446, 1.898776758088891, 2.6536639710249244, 1.5047413700662586, 1.1249036531963632, 1.1249061388196933, 1.8764743119899017, 1.6690238222946459, 1.124906738654116, 1.8568010535760386, 1.1249151335782772, 1.8947493382226583], \"Category\": [\"Default\", \"Default\", \"Default\", \"Default\", \"Default\", \"Default\", \"Default\", \"Default\", \"Default\", \"Default\", \"Default\", \"Default\", \"Default\", \"Default\", \"Default\", \"Default\", \"Default\", \"Default\", \"Default\", \"Default\", \"Default\", \"Default\", \"Default\", \"Default\", \"Default\", \"Default\", \"Default\", \"Default\", \"Default\", \"Default\", \"Topic1\", \"Topic1\", \"Topic1\", \"Topic1\", \"Topic1\", \"Topic1\", \"Topic1\", \"Topic1\", \"Topic1\", \"Topic1\", \"Topic1\", \"Topic1\", \"Topic1\", \"Topic1\", \"Topic1\", \"Topic1\", \"Topic1\", \"Topic1\", \"Topic1\", \"Topic1\", \"Topic1\", \"Topic1\", \"Topic1\", \"Topic1\", \"Topic1\", \"Topic1\", \"Topic1\", \"Topic1\", \"Topic1\", \"Topic1\", \"Topic1\", \"Topic1\", \"Topic1\", \"Topic1\", \"Topic1\", \"Topic2\", \"Topic2\", \"Topic2\", \"Topic2\", \"Topic2\", \"Topic2\", \"Topic2\", \"Topic2\", \"Topic2\", \"Topic2\", \"Topic2\", \"Topic2\", \"Topic2\", \"Topic2\", \"Topic2\", \"Topic2\", \"Topic2\", \"Topic2\", \"Topic2\", \"Topic2\", \"Topic2\", \"Topic2\", \"Topic2\", \"Topic2\", \"Topic2\", \"Topic2\", \"Topic2\", \"Topic2\", \"Topic2\", \"Topic2\", \"Topic2\", \"Topic2\", \"Topic2\", \"Topic2\", \"Topic2\", \"Topic2\", \"Topic3\", \"Topic3\", \"Topic3\", \"Topic3\", \"Topic3\", \"Topic3\", \"Topic3\", \"Topic3\", \"Topic3\", \"Topic3\", \"Topic3\", \"Topic3\", \"Topic3\", \"Topic3\", \"Topic3\", \"Topic3\", \"Topic3\", \"Topic3\", \"Topic3\", \"Topic3\", \"Topic3\", \"Topic3\", \"Topic3\", \"Topic3\", \"Topic3\", \"Topic3\", \"Topic3\", \"Topic3\", \"Topic3\", \"Topic3\", \"Topic3\", \"Topic3\", \"Topic3\", \"Topic3\", \"Topic3\", \"Topic3\", \"Topic3\", \"Topic3\", \"Topic3\", \"Topic3\", \"Topic3\", \"Topic3\", \"Topic3\", \"Topic4\", \"Topic4\", \"Topic4\", \"Topic4\", \"Topic4\", \"Topic4\", \"Topic4\", \"Topic4\", \"Topic4\", \"Topic4\", \"Topic4\", \"Topic4\", \"Topic4\", \"Topic4\", \"Topic4\", \"Topic4\", \"Topic4\", \"Topic4\", \"Topic4\", \"Topic4\", \"Topic4\", \"Topic4\", \"Topic4\", \"Topic4\", \"Topic4\", \"Topic4\", \"Topic4\", \"Topic4\", \"Topic4\", \"Topic4\", \"Topic4\", \"Topic4\", \"Topic4\", \"Topic4\", \"Topic4\", \"Topic4\", \"Topic4\", \"Topic4\", \"Topic4\", \"Topic4\", \"Topic4\", \"Topic5\", \"Topic5\", \"Topic5\", \"Topic5\", \"Topic5\", \"Topic5\", \"Topic5\", \"Topic5\", \"Topic5\", \"Topic5\", \"Topic5\", \"Topic5\", \"Topic5\", \"Topic5\", \"Topic5\", \"Topic5\", \"Topic5\", \"Topic5\", \"Topic5\", \"Topic5\", \"Topic5\", \"Topic5\", \"Topic5\", \"Topic5\", \"Topic5\", \"Topic5\", \"Topic5\", \"Topic5\", \"Topic5\", \"Topic5\", \"Topic5\", \"Topic5\", \"Topic5\", \"Topic5\", \"Topic5\", \"Topic5\", \"Topic5\", \"Topic5\", \"Topic5\", \"Topic5\", \"Topic5\", \"Topic5\", \"Topic5\", \"Topic5\", \"Topic6\", \"Topic6\", \"Topic6\", \"Topic6\", \"Topic6\", \"Topic6\", \"Topic6\", \"Topic6\", \"Topic6\", \"Topic6\", \"Topic6\", \"Topic6\", \"Topic6\", \"Topic6\", \"Topic6\", \"Topic6\", \"Topic6\", \"Topic6\", \"Topic6\", \"Topic6\", \"Topic6\", \"Topic6\", \"Topic6\", \"Topic6\", \"Topic6\", \"Topic6\", \"Topic6\", \"Topic6\", \"Topic6\", \"Topic6\", \"Topic6\", \"Topic6\", \"Topic6\", \"Topic6\", \"Topic6\", \"Topic6\", \"Topic6\", \"Topic6\", \"Topic6\", \"Topic6\", \"Topic6\", \"Topic6\", \"Topic6\", \"Topic6\", \"Topic6\", \"Topic7\", \"Topic7\", \"Topic7\", \"Topic7\", \"Topic7\", \"Topic7\", \"Topic7\", \"Topic7\", \"Topic7\", \"Topic7\", \"Topic7\", \"Topic7\", \"Topic7\", \"Topic7\", \"Topic7\", \"Topic7\", \"Topic7\", \"Topic7\", \"Topic7\", \"Topic7\", \"Topic7\", \"Topic7\", \"Topic7\", \"Topic7\", \"Topic7\", \"Topic7\", \"Topic7\", \"Topic7\", \"Topic7\", \"Topic7\", \"Topic7\", \"Topic7\", \"Topic7\", \"Topic7\", \"Topic7\", \"Topic7\", \"Topic7\", \"Topic7\", \"Topic7\", \"Topic7\", \"Topic7\", \"Topic7\", \"Topic7\", \"Topic7\", \"Topic7\", \"Topic8\", \"Topic8\", \"Topic8\", \"Topic8\", \"Topic8\", \"Topic8\", \"Topic8\", \"Topic8\", \"Topic8\", \"Topic8\", \"Topic8\", \"Topic8\", \"Topic8\", \"Topic8\", \"Topic8\", \"Topic8\", \"Topic8\", \"Topic8\", \"Topic8\", \"Topic8\", \"Topic8\", \"Topic8\", \"Topic8\", \"Topic8\", \"Topic8\", \"Topic8\", \"Topic8\", \"Topic8\", \"Topic8\", \"Topic8\", \"Topic8\", \"Topic8\", \"Topic8\", \"Topic8\", \"Topic8\", \"Topic8\", \"Topic8\", \"Topic8\", \"Topic8\", \"Topic8\", \"Topic8\", \"Topic8\", \"Topic8\", \"Topic9\", \"Topic9\", \"Topic9\", \"Topic9\", \"Topic9\", \"Topic9\", \"Topic9\", \"Topic9\", \"Topic9\", \"Topic9\", \"Topic9\", \"Topic9\", \"Topic9\", \"Topic9\", \"Topic9\", \"Topic9\", \"Topic9\", \"Topic9\", \"Topic9\", \"Topic9\", \"Topic9\", \"Topic9\", \"Topic9\", \"Topic9\", \"Topic9\", \"Topic9\", \"Topic9\", \"Topic9\", \"Topic9\", \"Topic9\", \"Topic9\", \"Topic9\", \"Topic9\", \"Topic9\", \"Topic9\", \"Topic9\", \"Topic9\", \"Topic9\", \"Topic9\", \"Topic9\", \"Topic9\", \"Topic9\", \"Topic9\", \"Topic9\"], \"logprob\": [30.0, 29.0, 28.0, 27.0, 26.0, 25.0, 24.0, 23.0, 22.0, 21.0, 20.0, 19.0, 18.0, 17.0, 16.0, 15.0, 14.0, 13.0, 12.0, 11.0, 10.0, 9.0, 8.0, 7.0, 6.0, 5.0, 4.0, 3.0, 2.0, 1.0, -2.8659, -2.8687, -3.5049, -3.5049, -3.5049, -3.5049, -3.5086, -3.5087, -3.5091, -3.5096, -3.5097, -3.5099, -3.5101, -3.5103, -3.5104, -3.5106, -3.5106, -3.5112, -3.5118, -3.512, -3.5121, -3.5141, -2.866, -2.8662, -3.5093, -3.5049, -5.8073, -5.8073, -5.8074, -5.8074, -5.8074, -5.8072, -5.8073, -5.8073, -5.8073, -2.7824, -3.4243, -3.4243, -3.4243, -3.4243, -3.4243, -3.4243, -3.4243, -3.4243, -3.4243, -3.4243, -3.4243, -3.4243, -3.4243, -3.4243, -3.4243, -3.4243, -3.4243, -3.4243, -3.4243, -3.4243, -2.7824, -3.4243, -3.4242, -3.4243, -5.7267, -5.7267, -5.7267, -5.7267, -5.7267, -5.7267, -5.7267, -5.7267, -5.7267, -5.7267, -5.7267, -2.7912, -2.7912, -2.7912, -2.7912, -2.7912, -2.7912, -2.7912, -2.7912, -2.7912, -2.7912, -2.7912, -5.0936, -5.0936, -5.0936, -5.0937, -5.0937, -5.0937, -5.0937, -5.0937, -5.0937, -5.0937, -5.0937, -5.0937, -5.0937, -5.0937, -5.0937, -5.0937, -5.0937, -5.0937, -5.0937, -5.0937, -5.0934, -5.0935, -5.0935, -5.0936, -5.0936, -5.0936, -5.0936, -5.0936, -5.0936, -5.0936, -5.0937, -5.0937, -2.7344, -2.7344, -2.7344, -2.7344, -2.7344, -2.7344, -2.7344, -2.7344, -2.7344, -2.7344, -5.0368, -5.0368, -5.0369, -5.0368, -5.0369, -5.0369, -5.0369, -5.0369, -5.0369, -5.0369, -5.0369, -5.0369, -5.0369, -5.0369, -5.0369, -5.0369, -5.0369, -5.0369, -5.0369, -5.0369, -5.0369, -5.0367, -5.0368, -5.0368, -5.0368, -5.0368, -5.0368, -5.0368, -5.0368, -5.0368, -5.0369, -4.1778, -4.1778, -4.1778, -4.1779, -4.1779, -4.1779, -4.1778, -4.1778, -4.1778, -4.1778, -4.1778, -4.1779, -4.1779, -4.1779, -4.1779, -4.1779, -4.0905, -4.1083, -4.1094, -4.1116, -4.1171, -4.1225, -4.1227, -4.124, -4.1254, -4.1274, -4.1294, -4.1311, -4.132, -4.1362, -4.1401, -4.141, -4.076, -4.1246, -4.1344, -4.1234, -4.1196, -4.1777, -4.1777, -4.1777, -4.1778, -4.1778, -4.1778, -4.1778, -4.1589, -4.1589, -4.1589, -4.1589, -4.1589, -4.1589, -4.1588, -4.1589, -4.1589, -4.1589, -4.1589, -4.1589, -4.1589, -4.1589, -4.1589, -4.1589, -4.1588, -4.1589, -4.1589, -4.1589, -4.1589, -4.1589, -4.1589, -4.1589, -4.1589, -4.1589, -4.1589, -4.1589, -4.1589, -4.1589, -4.1589, -4.1587, -4.1587, -4.1588, -4.1588, -4.1588, -4.1588, -4.1588, -4.1589, -4.1589, -4.1589, -4.1589, -4.1589, -4.1589, -4.1589, -4.1589, -4.1589, -4.1589, -4.1589, -4.1589, -4.1589, -4.1588, -4.1589, -4.1589, -4.1589, -4.1589, -4.1589, -4.1589, -4.1589, -4.1589, -4.1589, -4.1589, -4.1589, -4.1589, -4.1589, -4.1589, -4.1589, -4.1589, -4.1589, -4.1589, -4.1589, -4.1589, -4.1589, -4.1589, -4.1589, -4.1589, -4.1587, -4.1588, -4.1588, -4.1588, -4.1588, -4.1588, -4.1588, -4.1589, -4.1589, -4.1589, -4.1589, -4.1589, -4.1589, -4.1589, -4.1589, -4.1589, -4.1589, -4.1589, -4.1589, -4.1589, -4.1588, -4.1589, -4.1589, -4.1589, -4.1589, -4.1589, -4.1589, -4.1589, -4.1589, -4.1589, -4.1589, -4.1589, -4.1589, -4.1589, -4.1589, -4.1589, -4.1589, -4.1589, -4.1589, -4.1589, -4.1589, -4.1589, -4.1589, -4.1589, -4.1587, -4.1587, -4.1588, -4.1588, -4.1588, -4.1588, -4.1588, -4.1588, -4.1589, -4.1589, -4.1589, -4.1589, -4.1589, -4.1589, -4.1589, -4.1589, -4.1589, -4.1589, -4.1589, -4.1588, -4.1589, -4.1589, -4.1589, -4.1589, -4.1589, -4.1589, -4.1589, -4.1589, -4.1589, -4.1589, -4.1589, -4.1589, -4.1589, -4.1589, -4.1589, -4.1589, -4.1589, -4.1589, -4.1589, -4.1589, -4.1589, -4.1589, -4.1589, -4.1587, -4.1588, -4.1588, -4.1588, -4.1588, -4.1588, -4.1588, -4.1588, -4.1589, -4.1589, -4.1589, -4.1589, -4.1589, -4.1589], \"loglift\": [30.0, 29.0, 28.0, 27.0, 26.0, 25.0, 24.0, 23.0, 22.0, 21.0, 20.0, 19.0, 18.0, 17.0, 16.0, 15.0, 14.0, 13.0, 12.0, 11.0, 10.0, 9.0, 8.0, 7.0, 6.0, 5.0, 4.0, 3.0, 2.0, 1.0, 0.8496, 0.8489, 0.7341, 0.7341, 0.7341, 0.7341, 0.7329, 0.7329, 0.7328, 0.7326, 0.7326, 0.7325, 0.7325, 0.7324, 0.7323, 0.7323, 0.7323, 0.7321, 0.7319, 0.7319, 0.7318, 0.7312, 0.5148, 0.2643, 0.218, -0.0431, -1.3608, -1.3608, -1.3608, -1.3608, -1.3608, -1.9628, -1.8592, -1.9629, -1.3861, 0.9554, 0.8355, 0.8355, 0.8355, 0.8355, 0.8355, 0.8355, 0.8355, 0.8355, 0.8355, 0.8355, 0.8355, 0.8355, 0.8355, 0.8355, 0.8355, 0.8355, 0.8355, 0.8355, 0.4202, 0.4202, 0.3481, 0.303, 0.0376, -0.0435, -1.2802, -1.2802, -1.2802, -1.2802, -1.2802, -1.2802, -2.0112, -1.7786, -1.3055, -1.4877, -1.3055, 1.63, 1.63, 1.63, 1.63, 1.63, 1.63, 1.63, 1.63, 1.63, 1.63, 1.1569, -0.6471, -0.6471, -0.6471, -0.6471, -0.6471, -0.6471, -0.8339, -0.8339, -0.8339, -0.8339, -0.8339, -0.8339, -0.8339, -0.8339, -0.8339, -0.8339, -0.8339, -0.8339, -0.8339, -0.8339, -1.9629, -1.6317, -1.7128, -1.2491, -1.3663, -0.8546, -1.3781, -1.2491, -0.8546, -1.3558, -0.8547, -0.8547, 1.7122, 1.7122, 1.7122, 1.7122, 1.7122, 1.7122, 1.2137, 1.1101, 1.11, 0.7274, -0.6156, -0.6156, -0.6156, -0.6156, -0.6156, -0.6157, -0.6157, -0.6157, -0.6157, -0.6157, -0.7771, -0.7771, -0.7771, -0.7771, -0.7771, -0.7771, -0.7771, -0.7771, -0.7771, -0.7771, -0.7771, -1.9062, -1.656, -1.3213, -0.7978, -1.3095, -0.7978, -1.299, -0.7978, -1.3192, -0.7979, 0.2687, 0.2687, 0.2687, 0.2687, 0.2687, 0.2687, 0.2434, 0.2434, 0.2434, 0.2434, 0.2434, 0.2434, 0.2434, 0.2434, 0.2434, 0.2433, 0.1547, 0.1356, 0.1344, 0.132, 0.1262, 0.1204, 0.1202, 0.1188, 0.1173, 0.1151, 0.113, 0.1111, 0.1102, 0.1057, 0.1015, 0.1005, -0.3584, -0.4091, -0.4071, -0.7426, -0.9891, -0.7159, -0.2296, -0.3333, 0.0612, 0.0612, 0.0612, -0.3333, 0.2877, 0.2877, 0.2877, 0.2877, 0.2877, 0.2877, 0.2624, 0.2624, 0.2623, 0.2623, 0.2623, 0.2623, 0.2623, 0.2623, 0.2623, 0.2623, 0.1009, 0.1009, 0.1009, 0.1009, 0.1009, 0.1009, 0.1009, 0.1009, 0.1008, 0.1008, 0.1008, 0.1008, 0.1008, 0.1008, 0.1008, -1.0282, -0.6969, -0.778, -0.3143, -0.3143, -0.2107, -0.4433, 0.0802, 0.0802, 0.0802, -0.4316, -0.421, -0.4413, 0.0801, 0.2877, 0.2877, 0.2877, 0.2877, 0.2877, 0.2877, 0.2624, 0.2624, 0.2624, 0.2623, 0.2623, 0.2623, 0.2623, 0.2623, 0.2623, 0.2623, 0.1009, 0.1009, 0.1009, 0.1009, 0.1009, 0.1009, 0.1009, 0.1009, 0.1009, 0.1008, 0.1008, 0.1008, 0.1008, 0.1008, 0.1008, -0.6969, -1.0283, -0.778, -0.3143, -0.3143, -0.2107, -0.4433, 0.0802, -0.4315, 0.0802, -0.4412, 0.0801, 0.0801, -0.421, 0.2877, 0.2877, 0.2877, 0.2877, 0.2877, 0.2877, 0.2624, 0.2624, 0.2624, 0.2623, 0.2623, 0.2623, 0.2623, 0.2623, 0.2623, 0.2623, 0.1009, 0.1009, 0.1009, 0.1009, 0.1009, 0.1009, 0.1009, 0.1009, 0.1008, 0.1008, 0.1008, 0.1008, 0.1008, 0.1008, -1.0282, -0.6969, -0.3143, -0.3143, -0.4433, -0.7781, -0.2107, 0.0802, -0.4315, -0.421, 0.0801, 0.0801, -0.4413, 0.2877, 0.2877, 0.2877, 0.2877, 0.2877, 0.2877, 0.2624, 0.2623, 0.2623, 0.2623, 0.2623, 0.2623, 0.2623, 0.2623, 0.2623, 0.2623, 0.1009, 0.1009, 0.1009, 0.1009, 0.1009, 0.1009, 0.1009, 0.1009, 0.1009, 0.1009, 0.1008, 0.1008, 0.1008, 0.1008, -1.0282, -0.3143, -0.697, -0.4433, -0.778, -0.2107, 0.0802, 0.0802, -0.4315, -0.3144, 0.0801, -0.421, 0.0801, -0.4413]}, \"token.table\": {\"Topic\": [2, 4, 3, 2, 3, 3, 4, 2, 4, 1, 1, 1, 1, 3, 4, 1, 1, 2, 3, 1, 1, 1, 2, 1, 2, 2, 2, 2, 1, 1, 2, 3, 2, 2, 1, 2, 1, 4, 2, 3, 4, 2, 2, 4, 1, 2, 1, 1, 2, 2, 1, 2, 2, 1, 2, 2, 1, 2, 4, 1, 3, 4, 1, 3, 1, 1, 1, 4, 1, 2, 3, 3], \"Freq\": [0.5991562796721275, 0.5991562796721275, 1.0666246566977153, 0.9075906141490055, 1.0666252980350348, 1.0666199731133787, 1.0940192365746229, 0.9075863227373225, 1.0940227876737423, 1.05330971188682, 0.892098737148931, 0.8889630569971367, 0.8889559488981797, 1.0666251727501015, 1.094023299398008, 0.8924198491685176, 0.8919728391890084, 0.9075940887689504, 1.06663940382, 1.0555485940298945, 0.8931373174446772, 0.532914302961895, 0.532914302961895, 0.8932757870087206, 0.907601888082344, 0.9075853602068898, 0.907588538996538, 0.9075921347832251, 0.8923305838488417, 0.8889625829750477, 0.9075964615085319, 1.0666286474499016, 0.9075877031734706, 0.9075976231572143, 0.7536749271338753, 0.37683746356693765, 0.8927754235872043, 1.0940175451357417, 0.9075900103806386, 0.6645660310090143, 0.6645660310090143, 1.077121319027783, 0.5991526224144343, 0.5991526224144343, 0.8933469552971025, 0.9075942202378009, 0.8889650212785289, 0.8924094576504555, 0.9075923526216968, 0.9075950842273587, 0.5868011547365322, 0.5868011547365322, 0.9075969720490903, 0.8945384314959922, 0.9075855288401485, 0.9075904974602045, 0.40864985639737866, 0.40864985639737866, 0.40864985639737866, 0.8912920429159983, 1.0666368540955422, 1.094018144382881, 0.8918650673484072, 1.0666277591400894, 0.8912311602230618, 0.8915395584482775, 0.8922370170495467, 1.0940201679591464, 0.8918107497845305, 0.9075900558176387, 1.0666260531205074, 1.0666375135267068], \"Term\": [\"advance\", \"advance\", \"advanced\", \"advancement\", \"ago\", \"apple\", \"autonomous\", \"become\", \"car\", \"change\", \"confine\", \"dependency\", \"difference\", \"eat\", \"electric\", \"enjoy\", \"ever\", \"fast\", \"fitness\", \"forget\", \"freedom\", \"gadget\", \"gadget\", \"go\", \"happiness\", \"headline\", \"health\", \"hit\", \"home\", \"independence\", \"integral\", \"jewelry\", \"kind\", \"less\", \"mean\", \"mean\", \"medium\", \"mercede\", \"modern\", \"much\", \"much\", \"need\", \"new\", \"new\", \"nursing\", \"part\", \"people\", \"reality\", \"rocket\", \"safety\", \"senior\", \"senior\", \"significant\", \"social\", \"spacex\", \"tech\", \"technological\", \"technological\", \"technological\", \"technology\", \"tell\", \"tesla\", \"thing\", \"tracker\", \"tv\", \"uber\", \"ultra\", \"vehicle\", \"virtual\", \"wearable\", \"week\", \"wrist\"]}, \"R\": 30, \"lambda.step\": 0.01, \"plot.opts\": {\"xlab\": \"PC1\", \"ylab\": \"PC2\"}, \"topic.order\": [7, 9, 5, 6, 8, 1, 2, 3, 4]};\n",
       "\n",
       "function LDAvis_load_lib(url, callback){\n",
       "  var s = document.createElement('script');\n",
       "  s.src = url;\n",
       "  s.async = true;\n",
       "  s.onreadystatechange = s.onload = callback;\n",
       "  s.onerror = function(){console.warn(\"failed to load library \" + url);};\n",
       "  document.getElementsByTagName(\"head\")[0].appendChild(s);\n",
       "}\n",
       "\n",
       "if(typeof(LDAvis) !== \"undefined\"){\n",
       "   // already loaded: just create the visualization\n",
       "   !function(LDAvis){\n",
       "       new LDAvis(\"#\" + \"ldavis_el71005443750999046115324569\", ldavis_el71005443750999046115324569_data);\n",
       "   }(LDAvis);\n",
       "}else if(typeof define === \"function\" && define.amd){\n",
       "   // require.js is available: use it to load d3/LDAvis\n",
       "   require.config({paths: {d3: \"https://d3js.org/d3.v5\"}});\n",
       "   require([\"d3\"], function(d3){\n",
       "      window.d3 = d3;\n",
       "      LDAvis_load_lib(\"https://cdn.jsdelivr.net/gh/bmabey/pyLDAvis@3.3.1/pyLDAvis/js/ldavis.v3.0.0.js\", function(){\n",
       "        new LDAvis(\"#\" + \"ldavis_el71005443750999046115324569\", ldavis_el71005443750999046115324569_data);\n",
       "      });\n",
       "    });\n",
       "}else{\n",
       "    // require.js not available: dynamically load d3 & LDAvis\n",
       "    LDAvis_load_lib(\"https://d3js.org/d3.v5.js\", function(){\n",
       "         LDAvis_load_lib(\"https://cdn.jsdelivr.net/gh/bmabey/pyLDAvis@3.3.1/pyLDAvis/js/ldavis.v3.0.0.js\", function(){\n",
       "                 new LDAvis(\"#\" + \"ldavis_el71005443750999046115324569\", ldavis_el71005443750999046115324569_data);\n",
       "            })\n",
       "         });\n",
       "}\n",
       "</script>"
      ],
      "text/plain": [
       "PreparedData(topic_coordinates=              x         y  topics  cluster       Freq\n",
       "topic                                                \n",
       "6      0.173254  0.091824       1        1  36.883783\n",
       "8      0.020546 -0.173119       2        1  33.016473\n",
       "4     -0.145292  0.102980       3        1  13.715537\n",
       "5     -0.068663 -0.037037       4        1  12.443251\n",
       "7      0.006665  0.004712       5        1   0.788191\n",
       "0      0.003373  0.002660       6        1   0.788191\n",
       "1      0.003373  0.002660       7        1   0.788191\n",
       "2      0.003373  0.002660       8        1   0.788191\n",
       "3      0.003373  0.002660       9        1   0.788191, topic_info=            Term      Freq     Total Category  logprob  loglift\n",
       "30        forget  1.000000  1.000000  Default  30.0000  30.0000\n",
       "20        change  1.000000  1.000000  Default  29.0000  29.0000\n",
       "51          need  1.000000  1.000000  Default  28.0000  28.0000\n",
       "26        senior  3.000000  3.000000  Default  27.0000  27.0000\n",
       "24          mean  2.000000  2.000000  Default  26.0000  26.0000\n",
       "..           ...       ...       ...      ...      ...      ...\n",
       "6            new  0.009606  1.669024   Topic9  -4.1589  -0.3144\n",
       "23  independence  0.009606  1.124907   Topic9  -4.1589   0.0801\n",
       "51          need  0.009606  1.856801   Topic9  -4.1589  -0.4210\n",
       "22    difference  0.009606  1.124915   Topic9  -4.1589   0.0801\n",
       "30        forget  0.009606  1.894749   Topic9  -4.1589  -0.4413\n",
       "\n",
       "[406 rows x 6 columns], token_table=      Topic      Freq         Term\n",
       "term                              \n",
       "0         2  0.599156      advance\n",
       "0         4  0.599156      advance\n",
       "10        3  1.066625     advanced\n",
       "45        2  0.907591  advancement\n",
       "11        3  1.066625          ago\n",
       "...     ...       ...          ...\n",
       "9         4  1.094020      vehicle\n",
       "44        1  0.891811      virtual\n",
       "63        2  0.907590     wearable\n",
       "18        3  1.066626         week\n",
       "19        3  1.066638        wrist\n",
       "\n",
       "[72 rows x 3 columns], R=30, lambda_step=0.01, plot_opts={'xlab': 'PC1', 'ylab': 'PC2'}, topic_order=[7, 9, 5, 6, 8, 1, 2, 3, 4])"
      ]
     },
     "execution_count": 25,
     "metadata": {},
     "output_type": "execute_result"
    }
   ],
   "source": [
    "# Visualize the topics\n",
    "pyLDAvis.enable_notebook()\n",
    "vis = gensimvis.prepare(optimal_model, doc_term_matrix, dictionary)\n",
    "vis"
   ]
  },
  {
   "cell_type": "code",
   "execution_count": 26,
   "id": "99c57e57",
   "metadata": {},
   "outputs": [],
   "source": [
    "import pandas as pd"
   ]
  },
  {
   "cell_type": "code",
   "execution_count": 27,
   "id": "3b0b600b",
   "metadata": {},
   "outputs": [
    {
     "data": {
      "text/html": [
       "<div>\n",
       "<style scoped>\n",
       "    .dataframe tbody tr th:only-of-type {\n",
       "        vertical-align: middle;\n",
       "    }\n",
       "\n",
       "    .dataframe tbody tr th {\n",
       "        vertical-align: top;\n",
       "    }\n",
       "\n",
       "    .dataframe thead th {\n",
       "        text-align: right;\n",
       "    }\n",
       "</style>\n",
       "<table border=\"1\" class=\"dataframe\">\n",
       "  <thead>\n",
       "    <tr style=\"text-align: right;\">\n",
       "      <th></th>\n",
       "      <th>Document_No</th>\n",
       "      <th>Dominant_Topic</th>\n",
       "      <th>Topic_Perc_Contrib</th>\n",
       "      <th>Keywords</th>\n",
       "      <th>Text</th>\n",
       "    </tr>\n",
       "  </thead>\n",
       "  <tbody>\n",
       "    <tr>\n",
       "      <th>0</th>\n",
       "      <td>0</td>\n",
       "      <td>5.0</td>\n",
       "      <td>0.9192</td>\n",
       "      <td>technological, much, mercede, new, autonomous,...</td>\n",
       "      <td>Technological advances are about much more tha...</td>\n",
       "    </tr>\n",
       "    <tr>\n",
       "      <th>1</th>\n",
       "      <td>1</td>\n",
       "      <td>4.0</td>\n",
       "      <td>0.9259</td>\n",
       "      <td>apple, eat, ago, advanced, much, week, tracker...</td>\n",
       "      <td>It is much more than just advanced wrist jewel...</td>\n",
       "    </tr>\n",
       "    <tr>\n",
       "      <th>2</th>\n",
       "      <td>2</td>\n",
       "      <td>6.0</td>\n",
       "      <td>0.9012</td>\n",
       "      <td>change, mean, senior, forget, difference, tech...</td>\n",
       "      <td>For senior people, technological change can me...</td>\n",
       "    </tr>\n",
       "    <tr>\n",
       "      <th>3</th>\n",
       "      <td>3</td>\n",
       "      <td>6.0</td>\n",
       "      <td>0.9614</td>\n",
       "      <td>change, mean, senior, forget, difference, tech...</td>\n",
       "      <td>Forget your Ubers and your social media; forge...</td>\n",
       "    </tr>\n",
       "    <tr>\n",
       "      <th>4</th>\n",
       "      <td>4</td>\n",
       "      <td>8.0</td>\n",
       "      <td>0.9407</td>\n",
       "      <td>senior, need, technological, mean, headline, s...</td>\n",
       "      <td>The kind of modern technological advancements ...</td>\n",
       "    </tr>\n",
       "    <tr>\n",
       "      <th>5</th>\n",
       "      <td>5</td>\n",
       "      <td>8.0</td>\n",
       "      <td>0.9365</td>\n",
       "      <td>senior, need, technological, mean, headline, s...</td>\n",
       "      <td>To the seniors who need these gadgets, advance...</td>\n",
       "    </tr>\n",
       "  </tbody>\n",
       "</table>\n",
       "</div>"
      ],
      "text/plain": [
       "   Document_No  Dominant_Topic  Topic_Perc_Contrib  \\\n",
       "0            0             5.0              0.9192   \n",
       "1            1             4.0              0.9259   \n",
       "2            2             6.0              0.9012   \n",
       "3            3             6.0              0.9614   \n",
       "4            4             8.0              0.9407   \n",
       "5            5             8.0              0.9365   \n",
       "\n",
       "                                            Keywords  \\\n",
       "0  technological, much, mercede, new, autonomous,...   \n",
       "1  apple, eat, ago, advanced, much, week, tracker...   \n",
       "2  change, mean, senior, forget, difference, tech...   \n",
       "3  change, mean, senior, forget, difference, tech...   \n",
       "4  senior, need, technological, mean, headline, s...   \n",
       "5  senior, need, technological, mean, headline, s...   \n",
       "\n",
       "                                                Text  \n",
       "0  Technological advances are about much more tha...  \n",
       "1  It is much more than just advanced wrist jewel...  \n",
       "2  For senior people, technological change can me...  \n",
       "3  Forget your Ubers and your social media; forge...  \n",
       "4  The kind of modern technological advancements ...  \n",
       "5  To the seniors who need these gadgets, advance...  "
      ]
     },
     "execution_count": 27,
     "metadata": {},
     "output_type": "execute_result"
    }
   ],
   "source": [
    "def format_topics_sentences(ldamodel=lda_model, corpus=corpus, texts=list_of_sentence):\n",
    "    # Init output\n",
    "    sent_topics_df = pd.DataFrame()\n",
    "\n",
    "    # Get main topic in each document\n",
    "    for i, row in enumerate(ldamodel[corpus]):\n",
    "        row = sorted(row, key=lambda x: (x[1]), reverse=True)\n",
    "        # Get the Dominant topic, Perc Contribution and Keywords for each document\n",
    "        for j, (topic_num, prop_topic) in enumerate(row):\n",
    "            if j == 0:  # => dominant topic\n",
    "                wp = ldamodel.show_topic(topic_num)\n",
    "                topic_keywords = \", \".join([word for word, prop in wp])\n",
    "                sent_topics_df = sent_topics_df.append(pd.Series([int(topic_num), round(prop_topic,4), topic_keywords]), ignore_index=True)\n",
    "            else:\n",
    "                break\n",
    "    sent_topics_df.columns = ['Dominant_Topic', 'Perc_Contribution', 'Topic_Keywords']\n",
    "\n",
    "    # Add original text to the end of the output\n",
    "    contents = pd.Series(texts)\n",
    "    sent_topics_df = pd.concat([sent_topics_df, contents], axis=1)\n",
    "    return(sent_topics_df)\n",
    "\n",
    "\n",
    "df_topic_sents_keywords = format_topics_sentences(ldamodel=optimal_model, corpus=corpus, texts=list_of_sentence)\n",
    "\n",
    "# Format\n",
    "df_dominant_topic = df_topic_sents_keywords.reset_index()\n",
    "df_dominant_topic.columns = ['Document_No', 'Dominant_Topic', 'Topic_Perc_Contrib', 'Keywords', 'Text']\n",
    "\n",
    "# Show\n",
    "df_dominant_topic.head(10)"
   ]
  },
  {
   "cell_type": "code",
   "execution_count": null,
   "id": "116bea8e",
   "metadata": {},
   "outputs": [],
   "source": []
  }
 ],
 "metadata": {
  "kernelspec": {
   "display_name": "Python 3",
   "language": "python",
   "name": "python3"
  },
  "language_info": {
   "codemirror_mode": {
    "name": "ipython",
    "version": 3
   },
   "file_extension": ".py",
   "mimetype": "text/x-python",
   "name": "python",
   "nbconvert_exporter": "python",
   "pygments_lexer": "ipython3",
   "version": "3.8.8"
  }
 },
 "nbformat": 4,
 "nbformat_minor": 5
}
